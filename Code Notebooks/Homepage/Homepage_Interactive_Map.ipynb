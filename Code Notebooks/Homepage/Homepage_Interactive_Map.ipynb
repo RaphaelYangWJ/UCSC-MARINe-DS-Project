{
 "cells": [
  {
   "cell_type": "markdown",
   "metadata": {},
   "source": [
    "# Data Science Discovery Project - UCSC MARINe Academic Research"
   ]
  },
  {
   "cell_type": "markdown",
   "metadata": {},
   "source": [
    "## Import Modules and Datasets"
   ]
  },
  {
   "cell_type": "code",
   "execution_count": 260,
   "metadata": {
    "ExecuteTime": {
     "end_time": "2023-10-26T14:00:49.367921600Z",
     "start_time": "2023-10-26T14:00:49.208065900Z"
    }
   },
   "outputs": [],
   "source": [
    "%matplotlib notebook\n",
    "import pandas as pd\n",
    "import folium\n",
    "from folium import plugins\n",
    "from folium.plugins import Search\n",
    "import json\n",
    "from matplotlib import cbook\n",
    "from matplotlib import cm\n",
    "from matplotlib.colors import LightSource\n",
    "import matplotlib.pyplot as plt\n",
    "import numpy as np"
   ]
  },
  {
   "cell_type": "code",
   "execution_count": 261,
   "outputs": [
    {
     "data": {
      "text/plain": "  intertidal_sitename  site_latitude  site_longitude             linked_site\n0           Bob Creek      44.244640      -124.11430          bob_creek.html\n1              Bodega      38.318194      -123.07365             bodega.html\n2    Buck Gully South      33.588246      -117.86736  buck_gulley_south.html\n3          Cape Arago      43.308915      -124.40053          cape_arge.html\n4       Fogarty Creek      44.837085      -124.05778      fogarty_creek.html\n5        Heisler Park      33.542594      -117.78928       heisler_park.html\n6        Point Fermin      33.706790      -118.28614       point_fermin.html\n7         White Point      33.715730      -118.31999        white_point.html",
      "text/html": "<div>\n<style scoped>\n    .dataframe tbody tr th:only-of-type {\n        vertical-align: middle;\n    }\n\n    .dataframe tbody tr th {\n        vertical-align: top;\n    }\n\n    .dataframe thead th {\n        text-align: right;\n    }\n</style>\n<table border=\"1\" class=\"dataframe\">\n  <thead>\n    <tr style=\"text-align: right;\">\n      <th></th>\n      <th>intertidal_sitename</th>\n      <th>site_latitude</th>\n      <th>site_longitude</th>\n      <th>linked_site</th>\n    </tr>\n  </thead>\n  <tbody>\n    <tr>\n      <th>0</th>\n      <td>Bob Creek</td>\n      <td>44.244640</td>\n      <td>-124.11430</td>\n      <td>bob_creek.html</td>\n    </tr>\n    <tr>\n      <th>1</th>\n      <td>Bodega</td>\n      <td>38.318194</td>\n      <td>-123.07365</td>\n      <td>bodega.html</td>\n    </tr>\n    <tr>\n      <th>2</th>\n      <td>Buck Gully South</td>\n      <td>33.588246</td>\n      <td>-117.86736</td>\n      <td>buck_gulley_south.html</td>\n    </tr>\n    <tr>\n      <th>3</th>\n      <td>Cape Arago</td>\n      <td>43.308915</td>\n      <td>-124.40053</td>\n      <td>cape_arge.html</td>\n    </tr>\n    <tr>\n      <th>4</th>\n      <td>Fogarty Creek</td>\n      <td>44.837085</td>\n      <td>-124.05778</td>\n      <td>fogarty_creek.html</td>\n    </tr>\n    <tr>\n      <th>5</th>\n      <td>Heisler Park</td>\n      <td>33.542594</td>\n      <td>-117.78928</td>\n      <td>heisler_park.html</td>\n    </tr>\n    <tr>\n      <th>6</th>\n      <td>Point Fermin</td>\n      <td>33.706790</td>\n      <td>-118.28614</td>\n      <td>point_fermin.html</td>\n    </tr>\n    <tr>\n      <th>7</th>\n      <td>White Point</td>\n      <td>33.715730</td>\n      <td>-118.31999</td>\n      <td>white_point.html</td>\n    </tr>\n  </tbody>\n</table>\n</div>"
     },
     "execution_count": 261,
     "metadata": {},
     "output_type": "execute_result"
    }
   ],
   "source": [
    "# === import dataframe\n",
    "df = pd.read_csv(\"homepage_sites_data.csv\")\n",
    "df.head(10)"
   ],
   "metadata": {
    "collapsed": false,
    "ExecuteTime": {
     "end_time": "2023-10-26T14:00:49.381430Z",
     "start_time": "2023-10-26T14:00:49.223574900Z"
    }
   }
  },
  {
   "cell_type": "markdown",
   "source": [
    "## Create an interactive map"
   ],
   "metadata": {
    "collapsed": false
   }
  },
  {
   "cell_type": "code",
   "execution_count": 262,
   "outputs": [],
   "source": [
    "# =================== compute middle point =================== \n",
    "middle_coordinate = [df[\"site_latitude\"].mean(), df[\"site_longitude\"].mean()]\n",
    "\n",
    "# create a map\n",
    "map = folium.Map(location=[middle_coordinate[0], middle_coordinate[1]], \n",
    "                 zoom_start=5)\n",
    "\n",
    "\n",
    "for i in range(0, len(df)):\n",
    "    map.add_child(\n",
    "            folium.Marker(\n",
    "                location = [df.iloc[i][\"site_latitude\"],df.iloc[i][\"site_longitude\"]],\n",
    "                popup = folium.Popup(html=\"<strong>Sitename</strong>: \" + str(df.iloc[i][\"intertidal_sitename\"]) \\\n",
    "                                            +\"<br>\" \\\n",
    "                                            +\"<strong>Latitude</strong>: \" + str(df.iloc[i][\"site_latitude\"]) \\\n",
    "                                            +\"<br>\" \\\n",
    "                                            +\"<strong>Longitude</strong>: \" + str(df.iloc[i][\"site_longitude\"]) \\\n",
    "                                            +\"<br>\" \\\n",
    "                                            +\"Click <a href = \"+df.iloc[i][\"linked_site\"]+\">here</a> to see detailed information\", \n",
    "                                            max_width=500),\n",
    "                    icon=folium.Icon(color=\"blue\",icon=\"info-sign\")))\n",
    "# show lat and lon\n",
    "map.add_child(folium.LatLngPopup())\n",
    "map.add_child(plugins.MeasureControl(position ='topleft'))\n",
    "\n",
    "\n",
    "\n",
    "#  =================== Create title  =================== \n",
    "loc = 'UCSC MARINe Site Statistics'\n",
    "title_html = '''\n",
    "             <h1 align=\"center\" style=\"font-size:30px; color:#5F9EA0\"><b>{}</b></h1>\n",
    "             '''.format(loc)\n",
    "\n",
    "map.get_root().html.add_child(folium.Element(title_html))\n",
    "\n",
    "\n",
    "# =================== create search box =================== \n",
    "useful_cols = ['intertidal_sitename', 'site_latitude', 'site_longitude']\n",
    "df_geo = df[useful_cols]\n",
    "\n",
    "# Convert to json data\n",
    "def df_to_geojson(df_json, properties, lat='site_latitude', lng='site_longitude'):\n",
    "    geojson = {'type': 'FeatureCollection', 'features': []}\n",
    "\n",
    "    # 遍历dataframe的每一行，并转换为json格式\n",
    "    for _, row in df_json.iterrows():\n",
    "        # create a feature template to fill in\n",
    "        feature = {'type': 'Feature',\n",
    "                   'properties': {},\n",
    "                   'geometry': {'type': 'Point', 'coordinates': []}}\n",
    "\n",
    "        # 填写坐标\n",
    "        feature['geometry']['coordinates'] = [row[lng], row[lat]]\n",
    "\n",
    "        # for each column, get the value and add it as a new feature property\n",
    "        for prop in properties:\n",
    "            feature['properties'][prop] = row[prop]\n",
    "\n",
    "        # add this feature (aka, converted dataframe row) to the list of features inside our dict\n",
    "        geojson['features'].append(feature)\n",
    "\n",
    "    return geojson\n",
    "\n",
    "# create layers\n",
    "geojson_dict = df_to_geojson(df_geo, properties=useful_cols)\n",
    "geojson_str = json.dumps(geojson_dict, indent=2)\n",
    "geojson_obj = folium.GeoJson(geojson_dict,\n",
    "                             marker = folium.CircleMarker(radius = 3, # Radius in metres\n",
    "                                                          weight = 0, #outline weight\n",
    "                                                          fill_color = '#000000',\n",
    "                                                          fill_opacity = 1)\n",
    "                             ,show=False).add_to(map)\n",
    "\n",
    "# show search boxes\n",
    "factorysearch = Search(layer=geojson_obj,\n",
    "                       geom_type='Point',\n",
    "                       placeholder=\"Please input the site name\",\n",
    "                       collapsed=False,\n",
    "                       search_label='intertidal_sitename',\n",
    "                       search_zoom=6,\n",
    "                       position='topright'\n",
    "                       ).add_to(map)"
   ],
   "metadata": {
    "collapsed": false,
    "ExecuteTime": {
     "end_time": "2023-10-26T14:00:49.381430Z",
     "start_time": "2023-10-26T14:00:49.304628800Z"
    }
   }
  },
  {
   "cell_type": "markdown",
   "source": [
    "## Save the website to local disk"
   ],
   "metadata": {
    "collapsed": false
   }
  },
  {
   "cell_type": "code",
   "execution_count": 263,
   "outputs": [],
   "source": [
    "map.save('UCSC_MARINe_Homepage.html')"
   ],
   "metadata": {
    "collapsed": false,
    "ExecuteTime": {
     "end_time": "2023-10-26T14:00:49.381430Z",
     "start_time": "2023-10-26T14:00:49.331393800Z"
    }
   }
  },
  {
   "cell_type": "markdown",
   "source": [],
   "metadata": {
    "collapsed": false
   }
  }
 ],
 "metadata": {
  "kernelspec": {
   "display_name": "Python 3 (ipykernel)",
   "language": "python",
   "name": "python3"
  },
  "language_info": {
   "codemirror_mode": {
    "name": "ipython",
    "version": 3
   },
   "file_extension": ".py",
   "mimetype": "text/x-python",
   "name": "python",
   "nbconvert_exporter": "python",
   "pygments_lexer": "ipython3",
   "version": "3.10.0"
  }
 },
 "nbformat": 4,
 "nbformat_minor": 1
}
