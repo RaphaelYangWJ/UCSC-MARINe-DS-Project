{
 "cells": [
  {
   "attachments": {},
   "cell_type": "markdown",
   "id": "54f1deee34e5e5d1",
   "metadata": {
    "collapsed": false,
    "jupyter": {
     "outputs_hidden": false
    }
   },
   "source": [
    "# Phase II - Neural Networks in Focus Species"
   ]
  },
  {
   "cell_type": "markdown",
   "id": "12f0573df0cf7ce5",
   "metadata": {
    "collapsed": false,
    "jupyter": {
     "outputs_hidden": false
    }
   },
   "source": [
    "## Import Modules"
   ]
  },
  {
   "cell_type": "code",
   "execution_count": null,
   "id": "initial_id",
   "metadata": {
    "ExecuteTime": {
     "start_time": "2023-11-23T15:13:03.363156800Z"
    },
    "is_executing": true
   },
   "outputs": [],
   "source": [
    "import numpy as np\n",
    "import pandas as pd\n",
    "import torch.nn as nn\n",
    "import torch.optim as optim\n",
    "from tqdm import tqdm\n",
    "import torch.utils.data as Data\n",
    "from sklearn.preprocessing import StandardScaler\n",
    "import torch\n",
    "import matplotlib.pyplot as plt\n",
    "from sklearn.metrics import ConfusionMatrixDisplay, confusion_matrix\n",
    "from sklearn.metrics import precision_score\n",
    "from sklearn.metrics import accuracy_score\n",
    "from sklearn.metrics import recall_score\n",
    "from sklearn.metrics import f1_score\n",
    "%matplotlib inline\n",
    "import warnings\n",
    "warnings.filterwarnings(\"ignore\")"
   ]
  },
  {
   "cell_type": "code",
   "execution_count": 2,
   "id": "d8aef597c07efb60",
   "metadata": {
    "ExecuteTime": {
     "end_time": "2023-11-21T13:55:55.337367500Z",
     "start_time": "2023-11-21T13:55:55.305358700Z"
    },
    "collapsed": false,
    "jupyter": {
     "outputs_hidden": false
    }
   },
   "outputs": [],
   "source": [
    "# set seed\n",
    "torch.cuda.manual_seed(1)\n",
    "# Switch to GPU for Training\n",
    "device = torch.device(\"cpu\" if torch.cuda.is_available() else \"cpu\")\n",
    "# Clear GPU caches\n",
    "torch.cuda.empty_cache()\n",
    "# print(torch.cuda.memory_summary())"
   ]
  },
  {
   "cell_type": "markdown",
   "id": "be34c8bc-8490-484e-b797-37615ab332b3",
   "metadata": {},
   "source": [
    "## Hyper-parameters Setup"
   ]
  },
  {
   "cell_type": "code",
   "execution_count": 3,
   "id": "1017b5ee",
   "metadata": {},
   "outputs": [],
   "source": [
    "batch_size = 50\n",
    "take_log = False"
   ]
  },
  {
   "cell_type": "markdown",
   "id": "d8fbbc929538cbcb",
   "metadata": {
    "collapsed": false,
    "jupyter": {
     "outputs_hidden": false
    }
   },
   "source": [
    "## Load datset & Feature Engineering"
   ]
  },
  {
   "cell_type": "code",
   "execution_count": 4,
   "id": "7bad725f742c8d08",
   "metadata": {
    "collapsed": false,
    "jupyter": {
     "outputs_hidden": false
    }
   },
   "outputs": [],
   "source": [
    "# set random seed\n",
    "np.random.seed(seed=2)\n",
    "# load dataset\n",
    "trainset = pd.read_csv(\"phase_2_trainset.csv\")\n",
    "testset = pd.read_csv(\"phase_2_testset.csv\")"
   ]
  },
  {
   "cell_type": "code",
   "execution_count": 5,
   "id": "e0480d35976dd94e",
   "metadata": {
    "ExecuteTime": {
     "end_time": "2023-11-21T13:56:00.078485800Z",
     "start_time": "2023-11-21T13:55:55.352875Z"
    },
    "collapsed": false,
    "jupyter": {
     "outputs_hidden": false
    }
   },
   "outputs": [
    {
     "data": {
      "text/plain": [
       "{'Mytilus californianus': 0,\n",
       " 'Anthopleura elegantissima': 1,\n",
       " 'Balanus glandula': 2,\n",
       " 'Egregia menziesii': 3,\n",
       " 'Pollicipes polymerus': 4}"
      ]
     },
     "execution_count": 5,
     "metadata": {},
     "output_type": "execute_result"
    }
   ],
   "source": [
    "# get species list\n",
    "species_list = list(set([i for i in trainset[\"species_cat_02\"]]))\n",
    "label_dict = {}\n",
    "for i, spe in enumerate(species_list):\n",
    "    label_dict[spe] = i\n",
    "label_dict"
   ]
  },
  {
   "cell_type": "code",
   "execution_count": 6,
   "id": "c3e673ce9740b16e",
   "metadata": {
    "ExecuteTime": {
     "end_time": "2023-11-21T13:56:00.136499900Z",
     "start_time": "2023-11-21T13:56:00.077486700Z"
    },
    "collapsed": false,
    "jupyter": {
     "outputs_hidden": false
    }
   },
   "outputs": [],
   "source": [
    "# generate label column\n",
    "trainset[\"label\"] = trainset[\"species_cat_02\"].apply(lambda x: label_dict[x])\n",
    "testset[\"label\"] = testset[\"species_cat_02\"].apply(lambda x: label_dict[x])\n",
    "trainset = trainset.sample(frac=1)\n",
    "testset = testset.sample(frac=1)"
   ]
  },
  {
   "cell_type": "code",
   "execution_count": 7,
   "id": "f2a81184426c3da2",
   "metadata": {
    "ExecuteTime": {
     "end_time": "2023-11-21T13:56:00.136499900Z",
     "start_time": "2023-11-21T13:56:00.108492100Z"
    },
    "collapsed": false,
    "jupyter": {
     "outputs_hidden": false
    }
   },
   "outputs": [
    {
     "name": "stdout",
     "output_type": "stream",
     "text": [
      "Trainset Shape:  (13356, 3)\n",
      "Testset Shape:  (290, 3)\n"
     ]
    }
   ],
   "source": [
    "trainset = np.array(trainset)\n",
    "testset = np.array(testset)\n",
    "print(\"Trainset Shape: \", trainset.shape)\n",
    "print(\"Testset Shape: \", testset.shape)"
   ]
  },
  {
   "cell_type": "markdown",
   "id": "f11d3f9a1c83914e",
   "metadata": {
    "collapsed": false,
    "jupyter": {
     "outputs_hidden": false
    }
   },
   "source": [
    "### Train/Test Split and Data Preparation"
   ]
  },
  {
   "cell_type": "code",
   "execution_count": 8,
   "id": "b794d535974db4f8",
   "metadata": {
    "ExecuteTime": {
     "end_time": "2023-11-21T13:56:00.158013Z",
     "start_time": "2023-11-21T13:56:00.124496Z"
    },
    "collapsed": false,
    "jupyter": {
     "outputs_hidden": false
    }
   },
   "outputs": [
    {
     "name": "stdout",
     "output_type": "stream",
     "text": [
      "(13356, 1) (13356,)\n",
      "(290, 1) (290,)\n"
     ]
    }
   ],
   "source": [
    "train_x = trainset[:,0].reshape(-1,1)\n",
    "train_y = trainset[:,-1]\n",
    "test_x = testset[:,0].reshape(-1,1)\n",
    "test_y = testset[:,-1]\n",
    "\n",
    "print(train_x.shape, train_y.shape)\n",
    "print(test_x.shape, test_y.shape)"
   ]
  },
  {
   "cell_type": "markdown",
   "id": "c79cc6fa284f3595",
   "metadata": {
    "collapsed": false,
    "jupyter": {
     "outputs_hidden": false
    }
   },
   "source": [
    "## Training Piepeline"
   ]
  },
  {
   "cell_type": "markdown",
   "id": "8cfb1fe79b37ecda",
   "metadata": {
    "collapsed": false,
    "jupyter": {
     "outputs_hidden": false
    }
   },
   "source": [
    "### Normalization"
   ]
  },
  {
   "cell_type": "code",
   "execution_count": 9,
   "id": "bea6556e50fce3ea",
   "metadata": {
    "ExecuteTime": {
     "end_time": "2023-11-21T13:56:23.037266900Z",
     "start_time": "2023-11-21T13:56:22.831205200Z"
    },
    "collapsed": false,
    "jupyter": {
     "outputs_hidden": false
    }
   },
   "outputs": [],
   "source": [
    "scaler_minmax = StandardScaler()\n",
    "train_x = scaler_minmax.fit_transform(train_x)\n",
    "test_x = scaler_minmax.fit_transform(test_x)"
   ]
  },
  {
   "cell_type": "markdown",
   "id": "fd2e652d10d73c4d",
   "metadata": {
    "collapsed": false,
    "jupyter": {
     "outputs_hidden": false
    }
   },
   "source": [
    "### Conver to Tensors"
   ]
  },
  {
   "cell_type": "code",
   "execution_count": 10,
   "id": "c724c05a3831237c",
   "metadata": {
    "ExecuteTime": {
     "end_time": "2023-11-21T13:56:23.038266400Z",
     "start_time": "2023-11-21T13:56:22.846210400Z"
    },
    "collapsed": false,
    "jupyter": {
     "outputs_hidden": false
    }
   },
   "outputs": [],
   "source": [
    "# float32 conversion\n",
    "train_x = train_x.astype(np.float32)\n",
    "train_y = train_y.astype(np.int32)\n",
    "test_x = test_x.astype(np.float32)\n",
    "test_y = test_y.astype(np.int32)"
   ]
  },
  {
   "cell_type": "markdown",
   "id": "922885664065d920",
   "metadata": {
    "collapsed": false,
    "jupyter": {
     "outputs_hidden": false
    }
   },
   "source": [
    "### Dataloaders"
   ]
  },
  {
   "cell_type": "code",
   "execution_count": 11,
   "id": "d629312a5f153caa",
   "metadata": {
    "ExecuteTime": {
     "end_time": "2023-11-21T13:56:23.126582700Z",
     "start_time": "2023-11-21T13:56:22.862719900Z"
    },
    "collapsed": false,
    "jupyter": {
     "outputs_hidden": false
    }
   },
   "outputs": [],
   "source": [
    "class Species_Datasets(torch.utils.data.Dataset):\n",
    "    def __init__(self, data_inputs, data_targets):\n",
    "        self.inputs = torch.FloatTensor(data_inputs)\n",
    "        self.label = torch.FloatTensor(data_targets)\n",
    "\n",
    "    def __getitem__(self, idx):\n",
    "        x = self.inputs[idx]\n",
    "        y = self.label[idx]\n",
    "        return x, y\n",
    "\n",
    "    def __len__(self):\n",
    "        return len(self.label)"
   ]
  },
  {
   "cell_type": "code",
   "execution_count": 12,
   "id": "ec3d190e857d5cd2",
   "metadata": {
    "ExecuteTime": {
     "end_time": "2023-11-21T13:56:23.129583700Z",
     "start_time": "2023-11-21T13:56:22.877723300Z"
    },
    "collapsed": false,
    "jupyter": {
     "outputs_hidden": false
    }
   },
   "outputs": [],
   "source": [
    "trainset = Species_Datasets(train_x, train_y)\n",
    "testset = Species_Datasets(test_x, test_y)\n",
    "TrainDataLoader = Data.DataLoader(trainset, batch_size=batch_size, shuffle=True, drop_last=False)\n",
    "TestDataLoader = Data.DataLoader(testset, batch_size=batch_size, shuffle=True, drop_last=False)"
   ]
  },
  {
   "cell_type": "code",
   "execution_count": 13,
   "id": "123ce108",
   "metadata": {
    "ExecuteTime": {
     "end_time": "2023-11-21T13:56:23.129583700Z",
     "start_time": "2023-11-21T13:56:22.892727700Z"
    }
   },
   "outputs": [
    {
     "name": "stdout",
     "output_type": "stream",
     "text": [
      "torch.Size([50, 1]) torch.Size([50])\n",
      "torch.Size([1])\n"
     ]
    }
   ],
   "source": [
    "for batch_idx, (data, targets) in enumerate(TrainDataLoader):\n",
    "    print(data.shape,targets.shape)\n",
    "    print(data[0].shape)\n",
    "    break"
   ]
  },
  {
   "cell_type": "markdown",
   "id": "afc150614389057f",
   "metadata": {
    "collapsed": false,
    "jupyter": {
     "outputs_hidden": false
    }
   },
   "source": [
    "### Deep Neural Networks"
   ]
  },
  {
   "cell_type": "code",
   "execution_count": 14,
   "id": "33151e547523253f",
   "metadata": {
    "ExecuteTime": {
     "end_time": "2023-11-21T13:56:23.129583700Z",
     "start_time": "2023-11-21T13:56:22.910733700Z"
    },
    "collapsed": false,
    "jupyter": {
     "outputs_hidden": false
    }
   },
   "outputs": [],
   "source": [
    "class DNN_Model(nn.Module):\n",
    "    # Networks\n",
    "    def __init__(self):\n",
    "        super().__init__()\n",
    "        self.hidden1 = nn.Linear(train_x.shape[1],16)\n",
    "        self.hidden2 = nn.Linear(16,32)\n",
    "        self.hidden3 = nn.Linear(32,16)\n",
    "        self.out = nn.Linear(16,len(label_dict))\n",
    "        self.activation = nn.Sigmoid()\n",
    "        self.dropout = nn.Dropout(0.1)\n",
    "\n",
    "    # Feed Forward\n",
    "    def forward(self, x):\n",
    "        x = self.hidden1(x)\n",
    "        x = self.activation(x)\n",
    "        x = self.dropout(x)\n",
    "        x = self.hidden2(x)\n",
    "        x = self.activation(x)\n",
    "        x = self.dropout(x)\n",
    "        x = self.hidden3(x)\n",
    "        x = self.activation(x)\n",
    "        x = self.out(x)\n",
    "        return x"
   ]
  },
  {
   "cell_type": "code",
   "execution_count": 15,
   "id": "740752ebb62993e9",
   "metadata": {
    "ExecuteTime": {
     "end_time": "2023-11-21T13:56:23.130584200Z",
     "start_time": "2023-11-21T13:56:22.923735500Z"
    },
    "collapsed": false,
    "jupyter": {
     "outputs_hidden": false
    }
   },
   "outputs": [
    {
     "data": {
      "text/plain": [
       "DNN_Model(\n",
       "  (hidden1): Linear(in_features=1, out_features=16, bias=True)\n",
       "  (hidden2): Linear(in_features=16, out_features=32, bias=True)\n",
       "  (hidden3): Linear(in_features=32, out_features=16, bias=True)\n",
       "  (out): Linear(in_features=16, out_features=5, bias=True)\n",
       "  (activation): Sigmoid()\n",
       "  (dropout): Dropout(p=0.1, inplace=False)\n",
       ")"
      ]
     },
     "execution_count": 15,
     "metadata": {},
     "output_type": "execute_result"
    }
   ],
   "source": [
    "net = DNN_Model().to(device) # Create a net instance\n",
    "net"
   ]
  },
  {
   "attachments": {},
   "cell_type": "markdown",
   "id": "cbbb1941",
   "metadata": {},
   "source": [
    "### Training Model"
   ]
  },
  {
   "cell_type": "code",
   "execution_count": 16,
   "id": "2da18081",
   "metadata": {},
   "outputs": [],
   "source": [
    "# Preparing list to record\n",
    "summary_train_loss = []\n",
    "summary_train_accuracy = []\n",
    "summary_val_loss = []\n",
    "summary_val_accuracy = []"
   ]
  },
  {
   "cell_type": "code",
   "execution_count": 17,
   "id": "498833cc",
   "metadata": {},
   "outputs": [],
   "source": [
    "# Function: Train model\n",
    "def model_fit_train(class_weight, learning_rate, epochs, summary_train_loss, summary_train_accuracy, summary_val_loss, summary_val_accuracy):\n",
    "    if class_weight != None:\n",
    "        loss_func = torch.nn.CrossEntropyLoss(weight = class_weight)\n",
    "    else:\n",
    "        loss_func = torch.nn.CrossEntropyLoss()\n",
    "    optimizer = optim.Adam(net.parameters(), lr = learning_rate)\n",
    "\n",
    "    for epoch in tqdm(range(epochs), desc='Training'):\n",
    "        train_accuracy = []\n",
    "        train_loss = []\n",
    "        val_accuracy = []\n",
    "        val_loss = []\n",
    "        \n",
    "        # ===== Train Mode =====\n",
    "        net.train()\n",
    "        for batch_idx, (x_input, y_true) in enumerate(TrainDataLoader):\n",
    "            # Put data to device\n",
    "            x_input = x_input.to(device)\n",
    "            y_true = y_true.to(device)\n",
    "            # Fit model\n",
    "            y_pred = net(x_input)\n",
    "            # Compute loss\n",
    "            loss = loss_func(y_pred,y_true.long())\n",
    "            # Reset gradients\n",
    "            optimizer.zero_grad()\n",
    "            loss.backward()\n",
    "            optimizer.step()\n",
    "            # Get prediction\n",
    "            prediction = torch.max(y_pred,1)[1]\n",
    "            prediction = prediction.data.cpu().numpy().squeeze()\n",
    "\n",
    "            label = y_true.data.cpu().numpy()\n",
    "            # Compute accuracy\n",
    "            accuracy = float((prediction == label).astype(int).sum())/float(prediction.size)\n",
    "            # Append loss and accuracy\n",
    "            train_loss.append(loss.item())\n",
    "            train_accuracy.append(accuracy)\n",
    "        # append the average result from one epoch\n",
    "        summary_train_loss.append(np.mean(np.array(train_loss)))\n",
    "        summary_train_accuracy.append(np.mean(np.array(train_accuracy)))\n",
    "        \n",
    "\n",
    "        # ===== Validation Mode =====\n",
    "        net.eval()\n",
    "        val_prediction_list = [] # record the validation prediction result for confusion matrix computation\n",
    "        val_true_list = []\n",
    "        for batch_id, (val_data,val_label) in enumerate(TestDataLoader):\n",
    "            # Put data to device\n",
    "            x_val = val_data.to(device)\n",
    "            y_val = val_label.to(device)\n",
    "            # get prediction\n",
    "            val_pred = net(x_val)\n",
    "            # Compute loss\n",
    "            val_losses = loss_func(val_pred,y_val.long())\n",
    "            # prediction\n",
    "            val_pred = torch.max(val_pred,1)[1]\n",
    "            val_pred = val_pred.data.cpu().numpy().squeeze()\n",
    "            # append val_prediction_list\n",
    "            val_prediction_list += val_pred.tolist()\n",
    "            \n",
    "            val_label = y_val.data.cpu().numpy()\n",
    "            val_true_list += val_label.tolist() \n",
    "            \n",
    "            # Compute accuracy\n",
    "            val_acc = float((val_pred == val_label).astype(int).sum())/float(val_pred.size)\n",
    "            # Append loss and accuracy\n",
    "            val_loss.append(val_losses.item())\n",
    "            val_accuracy.append(val_acc)\n",
    "        # append the average result from one epoch\n",
    "        summary_val_loss.append(np.mean(np.array(val_loss)))\n",
    "        summary_val_accuracy.append(np.mean(np.array(val_accuracy)))\n",
    "        \n",
    "        # print result\n",
    "        if str(epoch).endswith(\"0\"):\n",
    "            print(\"Epoch: \",epoch+1,\"/\",epochs,\"Training Loss: \", summary_train_loss[-1], \"| Training Accuracy: \", summary_train_accuracy[-1], \"| Validation Loss: \", summary_val_loss[-1], \"| Validation Accuracy: \", summary_val_accuracy[-1])\n",
    "    return val_true_list, val_prediction_list"
   ]
  },
  {
   "attachments": {},
   "cell_type": "markdown",
   "id": "1a2f9adc",
   "metadata": {},
   "source": [
    "#### Phase II - Training"
   ]
  },
  {
   "cell_type": "code",
   "execution_count": 18,
   "id": "0f98b278",
   "metadata": {},
   "outputs": [],
   "source": [
    "epochs = 150\n",
    "learning_rate = 0.00005\n",
    "class_weights = torch.tensor([1.0,1.0,1.0,1.0,1.0])"
   ]
  },
  {
   "cell_type": "code",
   "execution_count": 19,
   "id": "8c93b6d1",
   "metadata": {},
   "outputs": [
    {
     "name": "stderr",
     "output_type": "stream",
     "text": [
      "Training:   1%|          | 1/150 [00:00<00:52,  2.82it/s]"
     ]
    },
    {
     "name": "stdout",
     "output_type": "stream",
     "text": [
      "Epoch:  1 / 150 Training Loss:  1.6227478798645645 | Training Accuracy:  0.21398009950248761 | Validation Loss:  1.6228158076604207 | Validation Accuracy:  0.1975\n"
     ]
    },
    {
     "name": "stderr",
     "output_type": "stream",
     "text": [
      "Training:   7%|▋         | 11/150 [00:04<00:51,  2.71it/s]"
     ]
    },
    {
     "name": "stdout",
     "output_type": "stream",
     "text": [
      "Epoch:  11 / 150 Training Loss:  1.599918374819542 | Training Accuracy:  0.2537313432835821 | Validation Loss:  1.6063209374745686 | Validation Accuracy:  0.21583333333333332\n"
     ]
    },
    {
     "name": "stderr",
     "output_type": "stream",
     "text": [
      "Training:  14%|█▍        | 21/150 [00:07<00:46,  2.80it/s]"
     ]
    },
    {
     "name": "stdout",
     "output_type": "stream",
     "text": [
      "Epoch:  21 / 150 Training Loss:  1.5662153692387824 | Training Accuracy:  0.3906716417910448 | Validation Loss:  1.5694493254025776 | Validation Accuracy:  0.38916666666666666\n"
     ]
    },
    {
     "name": "stderr",
     "output_type": "stream",
     "text": [
      "Training:  21%|██        | 31/150 [00:11<00:43,  2.76it/s]"
     ]
    },
    {
     "name": "stdout",
     "output_type": "stream",
     "text": [
      "Epoch:  31 / 150 Training Loss:  1.4438755160837031 | Training Accuracy:  0.4024378109452736 | Validation Loss:  1.4392775495847066 | Validation Accuracy:  0.375\n"
     ]
    },
    {
     "name": "stderr",
     "output_type": "stream",
     "text": [
      "Training:  27%|██▋       | 41/150 [00:14<00:39,  2.76it/s]"
     ]
    },
    {
     "name": "stdout",
     "output_type": "stream",
     "text": [
      "Epoch:  41 / 150 Training Loss:  1.356397815604708 | Training Accuracy:  0.40676616915422886 | Validation Loss:  1.34501447280248 | Validation Accuracy:  0.39166666666666666\n"
     ]
    },
    {
     "name": "stderr",
     "output_type": "stream",
     "text": [
      "Training:  34%|███▍      | 51/150 [00:18<00:35,  2.81it/s]"
     ]
    },
    {
     "name": "stdout",
     "output_type": "stream",
     "text": [
      "Epoch:  51 / 150 Training Loss:  1.3265360825097383 | Training Accuracy:  0.4089054726368159 | Validation Loss:  1.3165014584859211 | Validation Accuracy:  0.4083333333333334\n"
     ]
    },
    {
     "name": "stderr",
     "output_type": "stream",
     "text": [
      "Training:  41%|████      | 61/150 [00:22<00:32,  2.75it/s]"
     ]
    },
    {
     "name": "stdout",
     "output_type": "stream",
     "text": [
      "Epoch:  61 / 150 Training Loss:  1.3197833535386556 | Training Accuracy:  0.4091044776119403 | Validation Loss:  1.3028297622998555 | Validation Accuracy:  0.4166666666666667\n"
     ]
    },
    {
     "name": "stderr",
     "output_type": "stream",
     "text": [
      "Training:  47%|████▋     | 71/150 [00:25<00:28,  2.79it/s]"
     ]
    },
    {
     "name": "stdout",
     "output_type": "stream",
     "text": [
      "Epoch:  71 / 150 Training Loss:  1.3167278117208339 | Training Accuracy:  0.40888059701492535 | Validation Loss:  1.2958308855692546 | Validation Accuracy:  0.43333333333333335\n"
     ]
    },
    {
     "name": "stderr",
     "output_type": "stream",
     "text": [
      "Training:  54%|█████▍    | 81/150 [00:29<00:25,  2.76it/s]"
     ]
    },
    {
     "name": "stdout",
     "output_type": "stream",
     "text": [
      "Epoch:  81 / 150 Training Loss:  1.309382575216578 | Training Accuracy:  0.41156716417910444 | Validation Loss:  1.29475071032842 | Validation Accuracy:  0.42166666666666663\n"
     ]
    },
    {
     "name": "stderr",
     "output_type": "stream",
     "text": [
      "Training:  61%|██████    | 91/150 [00:32<00:21,  2.78it/s]"
     ]
    },
    {
     "name": "stdout",
     "output_type": "stream",
     "text": [
      "Epoch:  91 / 150 Training Loss:  1.307972841743213 | Training Accuracy:  0.4135820895522388 | Validation Loss:  1.2843034267425537 | Validation Accuracy:  0.42166666666666663\n"
     ]
    },
    {
     "name": "stderr",
     "output_type": "stream",
     "text": [
      "Training:  67%|██████▋   | 101/150 [00:36<00:17,  2.80it/s]"
     ]
    },
    {
     "name": "stdout",
     "output_type": "stream",
     "text": [
      "Epoch:  101 / 150 Training Loss:  1.3075253803338578 | Training Accuracy:  0.41253731343283584 | Validation Loss:  1.288597822189331 | Validation Accuracy:  0.42416666666666664\n"
     ]
    },
    {
     "name": "stderr",
     "output_type": "stream",
     "text": [
      "Training:  74%|███████▍  | 111/150 [00:40<00:13,  2.81it/s]"
     ]
    },
    {
     "name": "stdout",
     "output_type": "stream",
     "text": [
      "Epoch:  111 / 150 Training Loss:  1.3042558654030758 | Training Accuracy:  0.4124378109452736 | Validation Loss:  1.2798128724098206 | Validation Accuracy:  0.44\n"
     ]
    },
    {
     "name": "stderr",
     "output_type": "stream",
     "text": [
      "Training:  81%|████████  | 121/150 [00:43<00:10,  2.78it/s]"
     ]
    },
    {
     "name": "stdout",
     "output_type": "stream",
     "text": [
      "Epoch:  121 / 150 Training Loss:  1.3033792616716071 | Training Accuracy:  0.4119154228855721 | Validation Loss:  1.279621660709381 | Validation Accuracy:  0.425\n"
     ]
    },
    {
     "name": "stderr",
     "output_type": "stream",
     "text": [
      "Training:  87%|████████▋ | 131/150 [00:47<00:06,  2.79it/s]"
     ]
    },
    {
     "name": "stdout",
     "output_type": "stream",
     "text": [
      "Epoch:  131 / 150 Training Loss:  1.3017049485178136 | Training Accuracy:  0.4155223880597015 | Validation Loss:  1.2802729209264119 | Validation Accuracy:  0.42250000000000004\n"
     ]
    },
    {
     "name": "stderr",
     "output_type": "stream",
     "text": [
      "Training:  94%|█████████▍| 141/150 [00:51<00:03,  2.75it/s]"
     ]
    },
    {
     "name": "stdout",
     "output_type": "stream",
     "text": [
      "Epoch:  141 / 150 Training Loss:  1.299867633563369 | Training Accuracy:  0.4159950248756219 | Validation Loss:  1.2751079003016155 | Validation Accuracy:  0.4275\n"
     ]
    },
    {
     "name": "stderr",
     "output_type": "stream",
     "text": [
      "Training: 100%|██████████| 150/150 [00:54<00:00,  2.76it/s]\n"
     ]
    }
   ],
   "source": [
    "val_true_list, val_pred_list = model_fit_train(class_weights, learning_rate, epochs, summary_train_loss, summary_train_accuracy, summary_val_loss, summary_val_accuracy)"
   ]
  },
  {
   "cell_type": "markdown",
   "id": "cee58adc-e185-4db0-a214-762572d54003",
   "metadata": {},
   "source": [
    "#### Evaluation - Confusion Matrix"
   ]
  },
  {
   "cell_type": "code",
   "execution_count": 20,
   "id": "45fbfd99",
   "metadata": {},
   "outputs": [
    {
     "data": {
      "image/png": "[encoded data removed]",
      "text/plain": [
       "<Figure size 640x480 with 2 Axes>"
      ]
     },
     "metadata": {},
     "output_type": "display_data"
    }
   ],
   "source": [
    "cm = confusion_matrix(val_true_list, val_pred_list)\n",
    "cm_display = ConfusionMatrixDisplay(cm).plot()"
   ]
  },
  {
   "cell_type": "markdown",
   "id": "6d207089-8fe0-4bda-ae8f-12426f501531",
   "metadata": {},
   "source": [
    "#### Evaluation - Scores"
   ]
  },
  {
   "cell_type": "code",
   "execution_count": 21,
   "id": "a12f33ca-d1c4-450c-8bbc-8d6bd4895c9e",
   "metadata": {},
   "outputs": [
    {
     "name": "stdout",
     "output_type": "stream",
     "text": [
      "Accuracy Score:  0.42758620689655175\n",
      "Precision Score:  0.3878925537231384\n",
      "Recall Score:  0.4275862068965517\n",
      "F1 Score:  0.38413154632821656\n"
     ]
    }
   ],
   "source": [
    "print(\"Accuracy Score: \", accuracy_score(val_true_list, val_pred_list))\n",
    "print(\"Precision Score: \", precision_score(val_true_list, val_pred_list, average='macro'))\n",
    "print(\"Recall Score: \", recall_score(val_true_list, val_pred_list, average='macro'))\n",
    "print(\"F1 Score: \", f1_score(val_true_list, val_pred_list, average='macro'))"
   ]
  },
  {
   "cell_type": "code",
   "execution_count": 22,
   "id": "36fae6e4-9f3a-4de2-b8fa-84a100bf9879",
   "metadata": {},
   "outputs": [
    {
     "data": {
      "image/png": "[encoded data removed]",
      "text/plain": [
       "<Figure size 640x480 with 2 Axes>"
      ]
     },
     "metadata": {},
     "output_type": "display_data"
    }
   ],
   "source": [
    "plt.subplot(2, 1, 1)\n",
    "plt.plot(np.array(summary_train_loss),label=\"Training\")\n",
    "plt.plot(np.array(summary_val_loss),label=\"Validation\")\n",
    "plt.title(\"Loss Diagram\", fontsize = 10)\n",
    "plt.legend()\n",
    "\n",
    "plt.subplot(2, 1, 2)\n",
    "plt.plot(np.array(summary_train_accuracy),label=\"Train\")\n",
    "plt.plot(np.array(summary_val_accuracy),label=\"Validation\")\n",
    "plt.title(\"Accuracy Diagram\", fontsize = 10)\n",
    "plt.legend()\n",
    "plt.tight_layout()"
   ]
  },
  {
   "cell_type": "markdown",
   "id": "ed0da7f1-6680-4f29-8f90-ee6ac10c6988",
   "metadata": {},
   "source": [
    "#### Save model to local disk"
   ]
  },
  {
   "cell_type": "code",
   "execution_count": 25,
   "id": "f29bd9e7cf9267cb",
   "metadata": {
    "ExecuteTime": {
     "start_time": "2023-11-21T13:56:29.978342200Z"
    },
    "collapsed": false,
    "jupyter": {
     "outputs_hidden": false
    }
   },
   "outputs": [
    {
     "name": "stdout",
     "output_type": "stream",
     "text": [
      "Model saved to local disk.\n"
     ]
    }
   ],
   "source": [
    "# Save Model Path\n",
    "path = \"Phase II - Species Distribution Model.pth\"\n",
    "torch.save(net.state_dict(),path)\n",
    "print(\"Model saved to local disk.\")"
   ]
  },
  {
   "cell_type": "code",
   "execution_count": 26,
   "id": "97982873c9b78063",
   "metadata": {
    "ExecuteTime": {
     "start_time": "2023-11-21T13:56:29.979342400Z"
    },
    "collapsed": false,
    "jupyter": {
     "outputs_hidden": false
    }
   },
   "outputs": [
    {
     "name": "stdout",
     "output_type": "stream",
     "text": [
      "Evaluation Metrics saved to local disk.\n"
     ]
    }
   ],
   "source": [
    "evaluation = pd.DataFrame(columns = [\"train loss\",\"train accuracy\",\"validation loss\",\"validation accuracy\"])\n",
    "evaluation[\"train loss\"] =summary_train_loss\n",
    "evaluation[\"train accuracy\"] =summary_train_accuracy\n",
    "evaluation[\"validation loss\"] =summary_val_loss\n",
    "evaluation[\"validation accuracy\"] = summary_val_accuracy\n",
    "evaluation.to_csv(\"Phase II - model_evaluation.csv\",index=False,mode=\"a\",header=None)\n",
    "print(\"Evaluation Metrics saved to local disk.\")"
   ]
  }
 ],
 "metadata": {
  "kernelspec": {
   "display_name": "Python 3 (ipykernel)",
   "language": "python",
   "name": "python3"
  },
  "language_info": {
   "codemirror_mode": {
    "name": "ipython",
    "version": 3
   },
   "file_extension": ".py",
   "mimetype": "text/x-python",
   "name": "python",
   "nbconvert_exporter": "python",
   "pygments_lexer": "ipython3",
   "version": "3.9.18"
  }
 },
 "nbformat": 4,
 "nbformat_minor": 5
}
