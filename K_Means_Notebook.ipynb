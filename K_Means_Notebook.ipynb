{
 "cells": [
  {
   "cell_type": "markdown",
   "source": [
    "# Data Science - Machine Learning Part"
   ],
   "metadata": {
    "collapsed": false
   }
  },
  {
   "cell_type": "markdown",
   "source": [
    "## Import Modules"
   ],
   "metadata": {
    "collapsed": false
   }
  },
  {
   "cell_type": "code",
   "execution_count": 59,
   "metadata": {
    "collapsed": true
   },
   "outputs": [],
   "source": [
    "# Import the libraries we'll use below.\n",
    "import pandas as pd\n",
    "from sklearn.cluster import KMeans\n",
    "import numpy as np"
   ]
  },
  {
   "cell_type": "code",
   "execution_count": 60,
   "outputs": [],
   "source": [
    "df = pd.read_excel(\"F:/Coding Projects/Data_Spell_Workspace/Geospatial_Study/source data/species_height_data.xlsx\",sheet_name=\"point_contact_raw_with_heights\")\n",
    "df.dropna(axis=0, how='any',inplace=True)\n",
    "\n",
    "# === Create K-Means Table\n",
    "k_means_df = pd.DataFrame(columns=[\"sitename\",\"species\",\"x_location\",\"y_location\",\"z_location\"])"
   ],
   "metadata": {
    "collapsed": false
   }
  },
  {
   "cell_type": "code",
   "execution_count": 60,
   "outputs": [],
   "source": [
    "\n"
   ],
   "metadata": {
    "collapsed": false
   }
  },
  {
   "cell_type": "markdown",
   "source": [
    "## Import Dataset and data wrangling"
   ],
   "metadata": {
    "collapsed": false
   }
  },
  {
   "cell_type": "code",
   "execution_count": 61,
   "outputs": [],
   "source": [
    "def K_Means(site_name,df,n_clusters):\n",
    "    data = df.loc[df[\"intertidal_sitename\"] == site_name]\n",
    "    data = data.loc[data[\"year\"] == max([i for i in data[\"year\"]])]\n",
    "\n",
    "    data = data[[\"x_transect\",\"y_location\",\"Mean(z_rock_height)\",\"species_lump\"]]\n",
    "\n",
    "    species_lst = list(set([i for i in data[\"species_lump\"]]))\n",
    "    data_dict = {}\n",
    "    for item in species_lst:\n",
    "        temp_df = data.loc[data[\"species_lump\"]==item]\n",
    "        temp_lst = []\n",
    "        for i in range(0,len(temp_df)):\n",
    "            temp_lst.append(\n",
    "                [\n",
    "                    float(temp_df.iloc[i][\"x_transect\"]),\n",
    "                    float(temp_df.iloc[i][\"y_location\"]),\n",
    "                    float(temp_df.iloc[i][\"Mean(z_rock_height)\"]),\n",
    "\n",
    "                ]\n",
    "            )\n",
    "        data_dict[item] = np.array(temp_lst)\n",
    "        del temp_df\n",
    "        del temp_lst\n",
    "    # === K Means\n",
    "    n_clusters=n_clusters\n",
    "    k_means_result = {}\n",
    "    for i in data_dict.keys():\n",
    "        cluster = KMeans(n_clusters=n_clusters,random_state=0).fit(data_dict[i])\n",
    "        k_means_result[i] = [i,cluster.cluster_centers_]\n",
    "    # === Return data_dict\n",
    "    return k_means_result\n",
    "\n",
    "\n"
   ],
   "metadata": {
    "collapsed": false
   }
  },
  {
   "cell_type": "markdown",
   "source": [
    "## K Means Clustering"
   ],
   "metadata": {
    "collapsed": false
   }
  },
  {
   "cell_type": "code",
   "execution_count": 62,
   "outputs": [
    {
     "name": "stderr",
     "output_type": "stream",
     "text": [
      "F:\\Softwares\\Anaconda\\envs\\ML_Space\\lib\\site-packages\\sklearn\\cluster\\_kmeans.py:870: FutureWarning: The default value of `n_init` will change from 10 to 'auto' in 1.4. Set the value of `n_init` explicitly to suppress the warning\n",
      "  warnings.warn(\n",
      "F:\\Softwares\\Anaconda\\envs\\ML_Space\\lib\\site-packages\\sklearn\\cluster\\_kmeans.py:870: FutureWarning: The default value of `n_init` will change from 10 to 'auto' in 1.4. Set the value of `n_init` explicitly to suppress the warning\n",
      "  warnings.warn(\n",
      "F:\\Softwares\\Anaconda\\envs\\ML_Space\\lib\\site-packages\\sklearn\\cluster\\_kmeans.py:870: FutureWarning: The default value of `n_init` will change from 10 to 'auto' in 1.4. Set the value of `n_init` explicitly to suppress the warning\n",
      "  warnings.warn(\n",
      "F:\\Softwares\\Anaconda\\envs\\ML_Space\\lib\\site-packages\\sklearn\\cluster\\_kmeans.py:870: FutureWarning: The default value of `n_init` will change from 10 to 'auto' in 1.4. Set the value of `n_init` explicitly to suppress the warning\n",
      "  warnings.warn(\n",
      "F:\\Softwares\\Anaconda\\envs\\ML_Space\\lib\\site-packages\\sklearn\\cluster\\_kmeans.py:870: FutureWarning: The default value of `n_init` will change from 10 to 'auto' in 1.4. Set the value of `n_init` explicitly to suppress the warning\n",
      "  warnings.warn(\n",
      "F:\\Softwares\\Anaconda\\envs\\ML_Space\\lib\\site-packages\\sklearn\\cluster\\_kmeans.py:870: FutureWarning: The default value of `n_init` will change from 10 to 'auto' in 1.4. Set the value of `n_init` explicitly to suppress the warning\n",
      "  warnings.warn(\n",
      "F:\\Softwares\\Anaconda\\envs\\ML_Space\\lib\\site-packages\\sklearn\\cluster\\_kmeans.py:870: FutureWarning: The default value of `n_init` will change from 10 to 'auto' in 1.4. Set the value of `n_init` explicitly to suppress the warning\n",
      "  warnings.warn(\n",
      "F:\\Softwares\\Anaconda\\envs\\ML_Space\\lib\\site-packages\\sklearn\\cluster\\_kmeans.py:870: FutureWarning: The default value of `n_init` will change from 10 to 'auto' in 1.4. Set the value of `n_init` explicitly to suppress the warning\n",
      "  warnings.warn(\n",
      "F:\\Softwares\\Anaconda\\envs\\ML_Space\\lib\\site-packages\\sklearn\\cluster\\_kmeans.py:870: FutureWarning: The default value of `n_init` will change from 10 to 'auto' in 1.4. Set the value of `n_init` explicitly to suppress the warning\n",
      "  warnings.warn(\n",
      "F:\\Softwares\\Anaconda\\envs\\ML_Space\\lib\\site-packages\\sklearn\\cluster\\_kmeans.py:870: FutureWarning: The default value of `n_init` will change from 10 to 'auto' in 1.4. Set the value of `n_init` explicitly to suppress the warning\n",
      "  warnings.warn(\n",
      "F:\\Softwares\\Anaconda\\envs\\ML_Space\\lib\\site-packages\\sklearn\\cluster\\_kmeans.py:870: FutureWarning: The default value of `n_init` will change from 10 to 'auto' in 1.4. Set the value of `n_init` explicitly to suppress the warning\n",
      "  warnings.warn(\n",
      "F:\\Softwares\\Anaconda\\envs\\ML_Space\\lib\\site-packages\\sklearn\\cluster\\_kmeans.py:870: FutureWarning: The default value of `n_init` will change from 10 to 'auto' in 1.4. Set the value of `n_init` explicitly to suppress the warning\n",
      "  warnings.warn(\n",
      "F:\\Softwares\\Anaconda\\envs\\ML_Space\\lib\\site-packages\\sklearn\\cluster\\_kmeans.py:870: FutureWarning: The default value of `n_init` will change from 10 to 'auto' in 1.4. Set the value of `n_init` explicitly to suppress the warning\n",
      "  warnings.warn(\n",
      "F:\\Softwares\\Anaconda\\envs\\ML_Space\\lib\\site-packages\\sklearn\\cluster\\_kmeans.py:870: FutureWarning: The default value of `n_init` will change from 10 to 'auto' in 1.4. Set the value of `n_init` explicitly to suppress the warning\n",
      "  warnings.warn(\n",
      "F:\\Softwares\\Anaconda\\envs\\ML_Space\\lib\\site-packages\\sklearn\\cluster\\_kmeans.py:870: FutureWarning: The default value of `n_init` will change from 10 to 'auto' in 1.4. Set the value of `n_init` explicitly to suppress the warning\n",
      "  warnings.warn(\n",
      "F:\\Softwares\\Anaconda\\envs\\ML_Space\\lib\\site-packages\\sklearn\\cluster\\_kmeans.py:870: FutureWarning: The default value of `n_init` will change from 10 to 'auto' in 1.4. Set the value of `n_init` explicitly to suppress the warning\n",
      "  warnings.warn(\n",
      "F:\\Softwares\\Anaconda\\envs\\ML_Space\\lib\\site-packages\\sklearn\\cluster\\_kmeans.py:870: FutureWarning: The default value of `n_init` will change from 10 to 'auto' in 1.4. Set the value of `n_init` explicitly to suppress the warning\n",
      "  warnings.warn(\n",
      "F:\\Softwares\\Anaconda\\envs\\ML_Space\\lib\\site-packages\\sklearn\\cluster\\_kmeans.py:870: FutureWarning: The default value of `n_init` will change from 10 to 'auto' in 1.4. Set the value of `n_init` explicitly to suppress the warning\n",
      "  warnings.warn(\n",
      "F:\\Softwares\\Anaconda\\envs\\ML_Space\\lib\\site-packages\\sklearn\\cluster\\_kmeans.py:870: FutureWarning: The default value of `n_init` will change from 10 to 'auto' in 1.4. Set the value of `n_init` explicitly to suppress the warning\n",
      "  warnings.warn(\n",
      "F:\\Softwares\\Anaconda\\envs\\ML_Space\\lib\\site-packages\\sklearn\\cluster\\_kmeans.py:870: FutureWarning: The default value of `n_init` will change from 10 to 'auto' in 1.4. Set the value of `n_init` explicitly to suppress the warning\n",
      "  warnings.warn(\n",
      "F:\\Softwares\\Anaconda\\envs\\ML_Space\\lib\\site-packages\\sklearn\\cluster\\_kmeans.py:870: FutureWarning: The default value of `n_init` will change from 10 to 'auto' in 1.4. Set the value of `n_init` explicitly to suppress the warning\n",
      "  warnings.warn(\n",
      "F:\\Softwares\\Anaconda\\envs\\ML_Space\\lib\\site-packages\\sklearn\\cluster\\_kmeans.py:870: FutureWarning: The default value of `n_init` will change from 10 to 'auto' in 1.4. Set the value of `n_init` explicitly to suppress the warning\n",
      "  warnings.warn(\n",
      "F:\\Softwares\\Anaconda\\envs\\ML_Space\\lib\\site-packages\\sklearn\\cluster\\_kmeans.py:870: FutureWarning: The default value of `n_init` will change from 10 to 'auto' in 1.4. Set the value of `n_init` explicitly to suppress the warning\n",
      "  warnings.warn(\n",
      "F:\\Softwares\\Anaconda\\envs\\ML_Space\\lib\\site-packages\\sklearn\\cluster\\_kmeans.py:870: FutureWarning: The default value of `n_init` will change from 10 to 'auto' in 1.4. Set the value of `n_init` explicitly to suppress the warning\n",
      "  warnings.warn(\n",
      "F:\\Softwares\\Anaconda\\envs\\ML_Space\\lib\\site-packages\\sklearn\\cluster\\_kmeans.py:870: FutureWarning: The default value of `n_init` will change from 10 to 'auto' in 1.4. Set the value of `n_init` explicitly to suppress the warning\n",
      "  warnings.warn(\n",
      "F:\\Softwares\\Anaconda\\envs\\ML_Space\\lib\\site-packages\\sklearn\\cluster\\_kmeans.py:870: FutureWarning: The default value of `n_init` will change from 10 to 'auto' in 1.4. Set the value of `n_init` explicitly to suppress the warning\n",
      "  warnings.warn(\n",
      "F:\\Softwares\\Anaconda\\envs\\ML_Space\\lib\\site-packages\\sklearn\\cluster\\_kmeans.py:870: FutureWarning: The default value of `n_init` will change from 10 to 'auto' in 1.4. Set the value of `n_init` explicitly to suppress the warning\n",
      "  warnings.warn(\n",
      "F:\\Softwares\\Anaconda\\envs\\ML_Space\\lib\\site-packages\\sklearn\\cluster\\_kmeans.py:870: FutureWarning: The default value of `n_init` will change from 10 to 'auto' in 1.4. Set the value of `n_init` explicitly to suppress the warning\n",
      "  warnings.warn(\n",
      "F:\\Softwares\\Anaconda\\envs\\ML_Space\\lib\\site-packages\\sklearn\\cluster\\_kmeans.py:870: FutureWarning: The default value of `n_init` will change from 10 to 'auto' in 1.4. Set the value of `n_init` explicitly to suppress the warning\n",
      "  warnings.warn(\n",
      "F:\\Softwares\\Anaconda\\envs\\ML_Space\\lib\\site-packages\\sklearn\\cluster\\_kmeans.py:870: FutureWarning: The default value of `n_init` will change from 10 to 'auto' in 1.4. Set the value of `n_init` explicitly to suppress the warning\n",
      "  warnings.warn(\n",
      "F:\\Softwares\\Anaconda\\envs\\ML_Space\\lib\\site-packages\\sklearn\\cluster\\_kmeans.py:870: FutureWarning: The default value of `n_init` will change from 10 to 'auto' in 1.4. Set the value of `n_init` explicitly to suppress the warning\n",
      "  warnings.warn(\n",
      "F:\\Softwares\\Anaconda\\envs\\ML_Space\\lib\\site-packages\\sklearn\\cluster\\_kmeans.py:870: FutureWarning: The default value of `n_init` will change from 10 to 'auto' in 1.4. Set the value of `n_init` explicitly to suppress the warning\n",
      "  warnings.warn(\n",
      "F:\\Softwares\\Anaconda\\envs\\ML_Space\\lib\\site-packages\\sklearn\\cluster\\_kmeans.py:870: FutureWarning: The default value of `n_init` will change from 10 to 'auto' in 1.4. Set the value of `n_init` explicitly to suppress the warning\n",
      "  warnings.warn(\n"
     ]
    }
   ],
   "source": [
    "site_list = list(set([i for i in df[\"intertidal_sitename\"]]))\n",
    "\n",
    "for site in site_list:\n",
    "    data_dict = K_Means(site,df,5)\n",
    "    for i in data_dict.keys():\n",
    "        for j in data_dict[i][1]:\n",
    "            k_means_df.loc[len(k_means_df)] = [\n",
    "                                                site,\n",
    "                                                data_dict[i][0],\n",
    "                                                j[0],\n",
    "                                                j[1],\n",
    "                                                j[2],\n",
    "                                               ]\n",
    "\n",
    "\n",
    "k_means_df.to_csv(\"Machine_Learning_K_means_result.csv\",index=False)\n"
   ],
   "metadata": {
    "collapsed": false
   }
  }
 ],
 "metadata": {
  "kernelspec": {
   "name": "conda-env-ML_Space-py",
   "language": "python",
   "display_name": "Python [conda env:ML_Space] *"
  },
  "language_info": {
   "codemirror_mode": {
    "name": "ipython",
    "version": 2
   },
   "file_extension": ".py",
   "mimetype": "text/x-python",
   "name": "python",
   "nbconvert_exporter": "python",
   "pygments_lexer": "ipython2",
   "version": "2.7.6"
  }
 },
 "nbformat": 4,
 "nbformat_minor": 0
}
