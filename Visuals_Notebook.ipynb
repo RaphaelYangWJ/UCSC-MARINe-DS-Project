{
 "cells": [
  {
   "cell_type": "markdown",
   "source": [
    "# Data Science Discovery Project - UCSC MARINe Academic Research - Pyecharts"
   ],
   "metadata": {
    "collapsed": false
   }
  },
  {
   "cell_type": "markdown",
   "source": [
    "## Import Modules"
   ],
   "metadata": {
    "collapsed": false
   }
  },
  {
   "cell_type": "code",
   "execution_count": 65,
   "metadata": {
    "collapsed": true
   },
   "outputs": [],
   "source": [
    "from pyecharts.globals import CurrentConfig\n",
    "CurrentConfig.ONLINE_HOST = \"pyecharts-assets-master/assets/\"\n",
    "import pandas as pd\n",
    "from pyecharts.charts import Bar, Grid, Line, Page, Pie\n",
    "from pyecharts.charts import ThemeRiver\n",
    "from pyecharts.globals import ThemeType\n",
    "from pyecharts.charts import Map3D\n",
    "from pyecharts.commons.utils import JsCode\n",
    "from pyecharts.globals import ChartType, SymbolType\n",
    "from bs4 import BeautifulSoup\n",
    "import os\n",
    "import numpy as np\n",
    "import pyecharts.options as opts\n",
    "from pyecharts.charts import Surface3D\n",
    "from pyecharts.charts import Scatter3D"
   ]
  },
  {
   "cell_type": "markdown",
   "source": [
    "## Load Dataset and Processing"
   ],
   "metadata": {
    "collapsed": false
   }
  },
  {
   "cell_type": "code",
   "execution_count": 66,
   "outputs": [],
   "source": [
    "# === df: Species Height data\n",
    "df = pd.read_excel(\"source data/species_height_data.xlsx\",sheet_name=\"point_contact_raw_with_heights\")\n",
    "# === data_elevation: Species Height data\n",
    "data_elevation = pd.read_excel(\"source data/elevation_data.xlsx\",sheet_name=\"true_y_consolidated\")\n",
    "# === k_means: Machine Learning Data\n",
    "k_means = pd.read_csv(\"Machine_Learning_K_means_result.csv\")"
   ],
   "metadata": {
    "collapsed": false
   }
  },
  {
   "cell_type": "markdown",
   "source": [
    "## Define site name"
   ],
   "metadata": {
    "collapsed": false
   }
  },
  {
   "cell_type": "code",
   "execution_count": 67,
   "outputs": [],
   "source": [
    "site_name = \"Sea Ranch\"\n",
    "# site_name = \"Point Sierra Nevada\"\n",
    "# site_name = \"Bodega\"\n",
    "# site_name = \"Fitzgerald Marine Reserve\""
   ],
   "metadata": {
    "collapsed": false
   }
  },
  {
   "cell_type": "markdown",
   "source": [
    "## Data Processing"
   ],
   "metadata": {
    "collapsed": false
   }
  },
  {
   "cell_type": "code",
   "execution_count": 68,
   "outputs": [],
   "source": [
    "# === Data Processing\n",
    "df_1 = df.copy()\n",
    "df_1 = df_1.loc[df_1[\"intertidal_sitename\"] == site_name]\n",
    "df_1[\"year\"] = df_1[\"year\"].apply(lambda x: str(x)+\"-\")\n",
    "df_1[\"month\"] = df_1[\"month\"].apply(lambda x: str(x)+\"-\")\n",
    "df_1[\"day\"] = df_1[\"day\"].apply(lambda x: str(x)+\"-\")\n",
    "df_1[\"time\"] = df_1[\"year\"] + df_1[\"month\"] + df_1[\"day\"]\n",
    "df_1[\"time\"] = df_1[\"time\"].apply(lambda x:pd.to_datetime((x)))\n",
    "df_1 = df_1[[\"time\",\"species_lump\",\"pc_point_type\"]]\n",
    "data = pd.DataFrame(df_1.groupby([\"time\",\"species_lump\"]).count())\n",
    "# === get value list + dataframe construction\n",
    "amount_lst = [i for i in data[\"pc_point_type\"]]\n",
    "time_lst = []\n",
    "specie_lst = []\n",
    "for i in data.index:\n",
    "    time_lst.append(i[0])\n",
    "    specie_lst.append(i[1])\n",
    "data = pd.DataFrame(columns = [\"time\",\"species\",\"amount\"])\n",
    "data[\"time\"] = time_lst\n",
    "data[\"species\"] = specie_lst\n",
    "data[\"amount\"] = amount_lst\n",
    "data[\"amount\"] = data[\"amount\"].apply(lambda x: int(x))\n",
    "species_list = list(set([i for i in df_1[\"species_lump\"]]))"
   ],
   "metadata": {
    "collapsed": false
   }
  },
  {
   "cell_type": "markdown",
   "source": [
    "## Bar Chart - Check one sitename's species amount change"
   ],
   "metadata": {
    "collapsed": false
   }
  },
  {
   "cell_type": "code",
   "execution_count": 69,
   "outputs": [],
   "source": [
    "def chart_a():\n",
    "    # === Prepare x data and y data\n",
    "    x_data = list(set(time_lst))\n",
    "    x_data.sort()\n",
    "    y_data = {}\n",
    "    for item in species_list:\n",
    "        temp_df = data.loc[data[\"species\"]==item]\n",
    "        temp_list = []\n",
    "        for time_value in x_data:\n",
    "            try:\n",
    "                value_find = int(temp_df.loc[temp_df[\"time\"] == time_value, \"amount\"].values[0])\n",
    "                temp_list.append(value_find)\n",
    "            except Exception as e:\n",
    "                temp_list.append(0)\n",
    "        y_data[item] = temp_list\n",
    "    # === Bar Chart\n",
    "    bar = Bar(init_opts=opts.InitOpts(theme=ThemeType.DARK))\n",
    "    bar.add_xaxis([i.strftime(\"%Y-%m-%d\") for i in x_data])\n",
    "    bar.set_global_opts(\n",
    "        title_opts = opts.TitleOpts(title=\"Bar Chart - Species Change Comparison in \" + site_name),\n",
    "        datazoom_opts = [opts.DataZoomOpts(), opts.DataZoomOpts(type_=\"inside\")],\n",
    "        legend_opts = opts.LegendOpts(pos_top=\"10%\")\n",
    "\n",
    "    )\n",
    "    for i in y_data.keys():\n",
    "        bar.add_yaxis(i, y_data[i])\n",
    "    # === Add to grid\n",
    "    g = Grid(init_opts=opts.InitOpts(theme=ThemeType.DARK))\n",
    "    g.add(bar, grid_opts=opts.GridOpts(pos_top=\"25%\"))\n",
    "    g.chart_id = \"1\"\n",
    "    # === Return grid\n",
    "    return g"
   ],
   "metadata": {
    "collapsed": false
   }
  },
  {
   "cell_type": "markdown",
   "source": [
    "## River Chart - Show the breakdown of species change in one site names"
   ],
   "metadata": {
    "collapsed": false
   }
  },
  {
   "cell_type": "code",
   "execution_count": 70,
   "outputs": [],
   "source": [
    "def chart_b():\n",
    "    # === Prepare x data and y data\n",
    "    data_copy = data[[\"time\",\"amount\",\"species\"]]\n",
    "    data_copy[\"time\"] = data_copy[\"time\"].apply(lambda x: x.strftime(\"%Y-%m-%d\"))\n",
    "    # === River Chart\n",
    "    c_ThemeRiver = ThemeRiver(init_opts=opts.InitOpts(theme=ThemeType.DARK))\n",
    "    c_ThemeRiver.add(\n",
    "            series_name=species_list,\n",
    "            data=data_copy.values.tolist(),\n",
    "            singleaxis_opts=opts.SingleAxisOpts(\n",
    "                pos_top=\"90\", pos_bottom=\"30\", type_=\"time\"\n",
    "            ),\n",
    "        )\n",
    "    c_ThemeRiver.set_global_opts(\n",
    "            tooltip_opts=opts.TooltipOpts(trigger=\"axis\", axis_pointer_type=\"line\"),\n",
    "            title_opts=opts.TitleOpts(title=\"River Chart - Change of species in \" + site_name),\n",
    "            legend_opts = opts.LegendOpts(orient='horizontal', pos_top='top', pos_right='right')\n",
    "        )\n",
    "    c_ThemeRiver.set_series_opts(label_opts=opts.LabelOpts(is_show = 0))\n",
    "    c_ThemeRiver.chart_id = \"2\"\n",
    "    # === Return Rverchart\n",
    "    return c_ThemeRiver"
   ],
   "metadata": {
    "collapsed": false
   }
  },
  {
   "cell_type": "markdown",
   "source": [
    "## Bar Chart - Check one sitename' s spcies breakdown in specific times"
   ],
   "metadata": {
    "collapsed": false
   }
  },
  {
   "cell_type": "code",
   "execution_count": 71,
   "outputs": [],
   "source": [
    "def chart_c():\n",
    "    # === Data Preparaing\n",
    "    data_copy = data.groupby(\"species\").sum()\n",
    "    data_copy[\"amount\"] = data_copy[\"amount\"].apply(lambda x: round(x/data_copy[\"amount\"].sum(),2))\n",
    "    value = [i for i in data_copy[\"amount\"]]\n",
    "    attr = [i for i in data_copy.index]\n",
    "    # === Pie Chart\n",
    "    pie = Pie(init_opts=opts.InitOpts(theme=ThemeType.DARK))\n",
    "    pie.add(series_name=\"\",\n",
    "        data_pair = [list(z) for z in zip(attr, value)],\n",
    "        radius=[\"30%\", \"75%\"],\n",
    "        rosetype=\"radius\",\n",
    "        label_opts=opts.LabelOpts(is_show=True),\n",
    "        is_legend_hover_link=True\n",
    "\n",
    "    )\n",
    "    pie.set_global_opts(\n",
    "        title_opts=opts.TitleOpts(title=\"Pie Chart - Species Full Amount Percentage Analysis in \" + site_name),\n",
    "        legend_opts = opts.LegendOpts(is_show=0)\n",
    "    )\n",
    "    pie.chart_id = \"3\"\n",
    "    # === Return Pie Chart\n",
    "    return pie"
   ],
   "metadata": {
    "collapsed": false
   }
  },
  {
   "cell_type": "markdown",
   "source": [
    "## United States Map"
   ],
   "metadata": {
    "collapsed": false
   }
  },
  {
   "cell_type": "code",
   "execution_count": 72,
   "outputs": [],
   "source": [
    "def chart_d():\n",
    "    # === Preparaing data\n",
    "    df_2 = df.copy()\n",
    "    df_3 = df.copy()\n",
    "    df_2 = df_2.drop_duplicates(subset=[\"intertidal_sitename\"])\n",
    "    df_3 = df_3.groupby(\"intertidal_sitename\").count()\n",
    "    df_3[\"site\"] = df_3.index\n",
    "    data_dict = pd.DataFrame(columns=[\"site\",\"latitude\",\"longitude\",\"species lump amount\"])\n",
    "    for i in range(0, len(df_2)):\n",
    "        data_dict.loc[len(data_dict)+1] = [\n",
    "            df_2.iloc[i][\"intertidal_sitename\"],\n",
    "            round(df_2.iloc[i][\"latitude\"],3),\n",
    "            round(df_2.iloc[i][\"longitude\"],3),\n",
    "            df_3.loc[df_3[\"site\"] == df_2.iloc[i][\"intertidal_sitename\"], \"reference_type\"].values[0],\n",
    "        ]\n",
    "    example_data = []\n",
    "    for i in range(0,len(data_dict)):\n",
    "        example_data.append(\n",
    "            (str(data_dict.iloc[i][\"site\"]),\n",
    "             [float(data_dict.iloc[i][\"longitude\"]),\n",
    "              float(data_dict.iloc[i][\"latitude\"]),\n",
    "              int(data_dict.iloc[i][\"species lump amount\"])]\n",
    "             )\n",
    "        )\n",
    "    # === Map\n",
    "    map3d = Map3D(init_opts=opts.InitOpts(theme=ThemeType.DARK))\n",
    "    map3d.add(\n",
    "        series_name = 'Species Lump Amount',\n",
    "        data_pair = example_data,\n",
    "        is_animation = True,\n",
    "        type_ = ChartType.BAR3D,\n",
    "        maptype='United States',\n",
    "        itemstyle_opts=opts.ItemStyleOpts(\n",
    "            color = 'steelblue',),\n",
    "        label_opts=opts.LabelOpts(\n",
    "            is_show=True,\n",
    "            formatter=JsCode(\"function(data){return data.name +'\\\\n'+ data.value[2];}\")),\n",
    "        emphasis_label_opts=opts.LabelOpts(\n",
    "            is_show=True),\n",
    "        emphasis_itemstyle_opts=opts.ItemStyleOpts(\n",
    "            color='#33FF00')\n",
    "    )\n",
    "    # add bottom map\n",
    "    map3d.add_schema(\n",
    "        maptype='美国',\n",
    "        region_height=4,\n",
    "        is_show_ground=False,\n",
    "        itemstyle_opts=opts.ItemStyleOpts(\n",
    "            color = '#F5F5F5',\n",
    "            border_color='#333333',\n",
    "            border_type='dotted',\n",
    "            border_width=1),\n",
    "        emphasis_label_opts=opts.LabelOpts(\n",
    "            is_show=True),\n",
    "        emphasis_itemstyle_opts=opts.ItemStyleOpts(\n",
    "            color = 'gold'),\n",
    "        shading='lambert',\n",
    "        light_opts=opts.Map3DLightOpts(\n",
    "            main_color='#FFFFCC',\n",
    "            is_main_shadow = True),\n",
    "    )\n",
    "    map3d.set_global_opts(\n",
    "        title_opts=opts.TitleOpts(title=\"3D Chart - United States\"),\n",
    "    )\n",
    "    map3d.chart_id = \"4\"\n",
    "    # === Return Map\n",
    "    return map3d"
   ],
   "metadata": {
    "collapsed": false
   }
  },
  {
   "cell_type": "markdown",
   "source": [
    "## Geologic Surface + species distributions"
   ],
   "metadata": {
    "collapsed": false
   }
  },
  {
   "cell_type": "code",
   "execution_count": 73,
   "outputs": [],
   "source": [
    "def chart_e():\n",
    "    # Processing Elevation data\n",
    "    df_1 = data_elevation.copy()\n",
    "    df_1 = df_1.loc[df_1[\"intertidal_sitename\"]==site_name]\n",
    "    df_1 = df_1[[\"y_location\",\"x_transect\",\"Mean(z_rock_height)\"]]\n",
    "    data_pair = np.array(df_1).tolist()\n",
    "\n",
    "    # === Create Surface\n",
    "    surface = Surface3D(init_opts=opts.InitOpts(theme=ThemeType.DARK))\n",
    "    surface.add(\n",
    "        series_name=\"Surface of \"+ site_name,\n",
    "        shading=\"color\",\n",
    "        data=data_pair,\n",
    "        xaxis3d_opts=opts.Axis3DOpts(type_=\"value\",name=\"X Transect\",textstyle_opts=opts.TextStyleOpts(color=\"white\")),\n",
    "        yaxis3d_opts=opts.Axis3DOpts(type_=\"value\",name=\"Y Location\",textstyle_opts=opts.TextStyleOpts(color=\"white\")),\n",
    "        zaxis3d_opts=opts.Axis3DOpts(type_='value',name='Mean(z_rock_height)',textstyle_opts=opts.TextStyleOpts(color=\"white\")),\n",
    "        grid3d_opts=opts.Grid3DOpts(width=100, height=40, depth=100),\n",
    "    )\n",
    "    surface.set_global_opts(\n",
    "        title_opts=opts.TitleOpts(title=\"Geologic Surface Chart\"),\n",
    "        visualmap_opts=opts.VisualMapOpts(\n",
    "            dimension=2,\n",
    "            max_=df[\"Mean(z_rock_height)\"].max(),\n",
    "            min_=df[\"Mean(z_rock_height)\"].min(),\n",
    "            range_color=[\"#313695\",\"#4575b4\",\"#74add1\",\"#abd9e9\",\"#e0f3f8\",\"#ffffbf\",\"#fee090\",\"#fdae61\",\"#f46d43\",\"#d73027\",\"#a50026\",],\n",
    "        )\n",
    "    )\n",
    "\n",
    "    # === Data Preparation\n",
    "    df_2 = df.copy()\n",
    "    df_2.sort_values(by=\"species_lump\")\n",
    "    spec_lst = list(set([i for i in df_2[\"species_lump\"]]))\n",
    "    data_dict = {}\n",
    "    for i in spec_lst:\n",
    "        temp_df = df_2.loc[df_2[\"species_lump\"]==i]\n",
    "        temp_lst = []\n",
    "        for j in range(0,len(temp_df)):\n",
    "            temp_lst.append(\n",
    "                (\n",
    "                    float(temp_df.iloc[j][\"x_transect\"]),\n",
    "                    float(temp_df.iloc[j][\"y_location\"]),\n",
    "                    float(temp_df.iloc[j][\"Mean(z_rock_height)\"])\n",
    "                )\n",
    "            )\n",
    "        data_dict[i] = temp_lst\n",
    "        del temp_lst\n",
    "        del temp_df\n",
    "\n",
    "    # === Scatter plots\n",
    "    scatter_3d = Scatter3D(init_opts=opts.InitOpts(theme=ThemeType.DARK))\n",
    "    for spec in data_dict.keys():\n",
    "        scatter_3d.add(\n",
    "            series_name=spec,\n",
    "            data=data_dict[spec],\n",
    "            xaxis3d_opts=opts.Axis3DOpts(\n",
    "                type_=\"value\",\n",
    "            ),\n",
    "            yaxis3d_opts=opts.Axis3DOpts(\n",
    "                type_=\"value\",\n",
    "                textstyle_opts=opts.TextStyleOpts(color=\"white\"),\n",
    "            ),\n",
    "            zaxis3d_opts=opts.Axis3DOpts(\n",
    "                type_=\"value\",\n",
    "            ),\n",
    "            grid3d_opts=opts.Grid3DOpts(width=50, height=50, depth=50),\n",
    "        )\n",
    "    scatter_3d.set_global_opts(\n",
    "        legend_opts = opts.LegendOpts(orient='horizontal', pos_top='10%'),\n",
    "    )\n",
    "    # === Create Grid\n",
    "    g = Grid(init_opts=opts.InitOpts(theme=ThemeType.DARK))\n",
    "    g.add(surface, grid_opts=opts.GridOpts(pos_top=\"25%\"))\n",
    "    g.add(scatter_3d, grid_opts=opts.GridOpts(pos_top=\"25%\"))\n",
    "    g.chart_id = \"5\"\n",
    "    # === Return Grid\n",
    "    return g"
   ],
   "metadata": {
    "collapsed": false
   }
  },
  {
   "cell_type": "markdown",
   "source": [
    "## Scatter Chart - ML K-Means Chart"
   ],
   "metadata": {
    "collapsed": false
   }
  },
  {
   "cell_type": "code",
   "execution_count": 74,
   "outputs": [],
   "source": [
    "def chart_f():\n",
    "    # === Data processing\n",
    "    df_1 = data_elevation.copy()\n",
    "    df_1 = df_1.loc[df_1[\"intertidal_sitename\"]==site_name]\n",
    "    # 时间取最大\n",
    "    df_1 = df_1[[\"y_location\",\"x_transect\",\"Mean(z_rock_height)\"]]\n",
    "    data_pair = np.array(df_1).tolist()\n",
    "    # === Create Surface\n",
    "    surface = Surface3D(init_opts=opts.InitOpts(theme=ThemeType.DARK))\n",
    "    surface.add(\n",
    "        series_name=\"Surface of \"+ site_name,\n",
    "        shading=\"color\",\n",
    "        data=data_pair,\n",
    "        xaxis3d_opts=opts.Axis3DOpts(type_=\"value\",name=\"X Transect\",textstyle_opts=opts.TextStyleOpts(color=\"white\")),\n",
    "        yaxis3d_opts=opts.Axis3DOpts(type_=\"value\",name=\"Y Location\",textstyle_opts=opts.TextStyleOpts(color=\"white\")),\n",
    "        zaxis3d_opts=opts.Axis3DOpts(type_='value',name='Mean(z_rock_height)',textstyle_opts=opts.TextStyleOpts(color=\"white\")),\n",
    "        grid3d_opts=opts.Grid3DOpts(width=100, height=40, depth=100),\n",
    "    )\n",
    "    # Get K-Means Data\n",
    "    k_means = pd.read_csv(\"Machine_Learning_K_means_result.csv\")\n",
    "    k_means = k_means.loc[k_means[\"sitename\"]==site_name]\n",
    "    category_lst = list(set([i for i in k_means[\"species\"]]))\n",
    "    data_dict = {}\n",
    "    for i in category_lst:\n",
    "        temp_df = k_means.loc[k_means[\"species\"]==i]\n",
    "        temp_lst = []\n",
    "        for j in range(0,len(temp_df)):\n",
    "            temp_lst.append(\n",
    "                (\n",
    "                    float(temp_df.iloc[j][\"x_location\"]),\n",
    "                    float(temp_df.iloc[j][\"y_location\"]),\n",
    "                    float(temp_df.iloc[j][\"z_location\"])\n",
    "                )\n",
    "            )\n",
    "        data_dict[i] = temp_lst\n",
    "        del temp_lst\n",
    "        del temp_df\n",
    "    # === Scatter plots\n",
    "    scatter_ml = Scatter3D(init_opts=opts.InitOpts(theme=ThemeType.DARK))\n",
    "    for spec in data_dict.keys():\n",
    "        scatter_ml.add(\n",
    "            series_name=spec,\n",
    "            data=data_dict[spec],\n",
    "            xaxis3d_opts=opts.Axis3DOpts(\n",
    "                type_=\"value\",\n",
    "            ),\n",
    "            yaxis3d_opts=opts.Axis3DOpts(\n",
    "                type_=\"value\",\n",
    "                textstyle_opts=opts.TextStyleOpts(color=\"white\"),\n",
    "            ),\n",
    "            zaxis3d_opts=opts.Axis3DOpts(\n",
    "                type_=\"value\",\n",
    "            ),\n",
    "            grid3d_opts=opts.Grid3DOpts(width=150, height=150, depth=150),\n",
    "        )\n",
    "    scatter_ml.set_global_opts(\n",
    "        title_opts=opts.TitleOpts(title=\"ML: K-Means Clustering of species\"),\n",
    "        legend_opts = opts.LegendOpts(orient='horizontal', pos_top='15%'),\n",
    "    )\n",
    "    # === Create grid\n",
    "    g = Grid(init_opts=opts.InitOpts(theme=ThemeType.DARK))\n",
    "    g.add(surface, grid_opts=opts.GridOpts(pos_top=\"28%\"))\n",
    "    g.add(scatter_ml, grid_opts=opts.GridOpts(pos_top=\"28%\"))\n",
    "    g.chart_id = \"6\"\n",
    "    # === Return Grid\n",
    "    return g"
   ],
   "metadata": {
    "collapsed": false
   }
  },
  {
   "cell_type": "markdown",
   "source": [
    "## Page Layout"
   ],
   "metadata": {
    "collapsed": false
   }
  },
  {
   "cell_type": "code",
   "execution_count": 75,
   "outputs": [
    {
     "data": {
      "text/plain": "'F:\\\\Coding Projects\\\\Data_Spell_Workspace\\\\Geospatial_Study\\\\page_demo.html'"
     },
     "execution_count": 75,
     "metadata": {},
     "output_type": "execute_result"
    }
   ],
   "source": [
    "page = (\n",
    "    Page(layout=Page.SimplePageLayout)\n",
    "    .add(\n",
    "        chart_e(),\n",
    "        chart_a(),\n",
    "        chart_f(),\n",
    "        chart_d(),\n",
    "        chart_b(),\n",
    "        chart_c(),\n",
    "        chart_f(),\n",
    ")\n",
    ")\n",
    "\n",
    "page.render(\"page_demo.html\")  # 生成HTML文件"
   ],
   "metadata": {
    "collapsed": false
   }
  },
  {
   "cell_type": "code",
   "execution_count": 76,
   "outputs": [],
   "source": [
    "# Page.save_resize_html(\"raphael_demos.html\", cfg_file=\"chart_config.json\", dest=\"raphael_demos2.html\")"
   ],
   "metadata": {
    "collapsed": false
   }
  },
  {
   "cell_type": "markdown",
   "source": [
    "## HTML Background Change"
   ],
   "metadata": {
    "collapsed": false
   }
  },
  {
   "cell_type": "code",
   "execution_count": 77,
   "outputs": [],
   "source": [
    "with open(os.path.join(os.path.abspath(\".\"), \"page_demo.html\"), 'r+', encoding=\"utf8\") as html:\n",
    "    html_bf = BeautifulSoup(html, \"lxml\")\n",
    "    divs = html_bf.find_all(\"div\")\n",
    "\n",
    "    body = html_bf.find(\"body\")\n",
    "    body[\"style\"]=\"background-color:#333333;\"\n",
    "    html_new = str(html_bf)\n",
    "    html.seek(0, 0)\n",
    "    html.truncate()\n",
    "    html.write(html_new)\n",
    "    html.close()"
   ],
   "metadata": {
    "collapsed": false
   }
  },
  {
   "cell_type": "markdown",
   "source": [],
   "metadata": {
    "collapsed": false
   }
  }
 ],
 "metadata": {
  "kernelspec": {
   "name": "conda-env-Data_Science-py",
   "language": "python",
   "display_name": "Python [conda env:Data_Science]"
  },
  "language_info": {
   "codemirror_mode": {
    "name": "ipython",
    "version": 2
   },
   "file_extension": ".py",
   "mimetype": "text/x-python",
   "name": "python",
   "nbconvert_exporter": "python",
   "pygments_lexer": "ipython2",
   "version": "2.7.6"
  }
 },
 "nbformat": 4,
 "nbformat_minor": 0
}
